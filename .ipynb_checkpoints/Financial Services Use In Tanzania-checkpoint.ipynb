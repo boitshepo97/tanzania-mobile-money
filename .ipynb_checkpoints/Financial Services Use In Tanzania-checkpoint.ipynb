{
 "cells": [
  {
   "cell_type": "markdown",
   "metadata": {},
   "source": [
    "# Financial Services Use In Tanzania\n"
   ]
  },
  {
   "cell_type": "code",
   "execution_count": 1,
   "metadata": {},
   "outputs": [],
   "source": [
    "# loading modules\n",
    "from IPython.display import display, HTML\n",
    "import pandas as pd\n",
    "import numpy as np\n",
    "import seaborn as sns\n",
    "import matplotlib.pyplot as plt\n",
    "%matplotlib inline\n"
   ]
  },
  {
   "cell_type": "markdown",
   "metadata": {},
   "source": [
    "# Tanzania-Mobile-Money\n",
    "\n",
    "The train dataset contains demographic information and what financial services are used by approximately 10,000 individuals \n",
    "across Tanzania. This data was extracted from the FSDT Finscope 2017 survey and prepared specifically for this challenge. \n",
    "\n",
    "This dataset is the geospatial mapping of all cash outlets in Tanzania in 2012. Cash outlets in this case included commercial \n",
    "banks, community banks, ATMs, microfinance institutions, mobile money agents, bus stations and post offices. This data was \n",
    "collected by FSDT.\n"
   ]
  },
  {
   "cell_type": "markdown",
   "metadata": {},
   "source": [
    "\n",
    "### The survey has five main objectives:\n",
    "\n",
    "• To understand the behaviour (cash flow management, investing, saving etc.) and define\n",
    "the financial service needs of consumers (individuals, farmers, business owners)\n",
    "\n",
    "• To establish credible benchmarks and measure the effectiveness of financial inclusion\n",
    "\n",
    "• To provide insights into policy, regulatory and market obstacles to access and usage\n",
    "of financial services\n",
    "\n",
    "• To provide insights which will feed into innovation within the financial and real sectors\n",
    "\n",
    "• To highlight opportunities for policy review needed to drive financial sector\n",
    "development "
   ]
  },
  {
   "cell_type": "markdown",
   "metadata": {},
   "source": [
    "### Methodology.\n",
    "\n",
    "The methodology used in the survey was sampling.\n",
    "\n",
    "Sampling Design - A multi-stage stratified sampling approach was used to achieve a representative sample\n",
    "of individuals aged 16 years and older. The sample frame was based on the 2012 Tanzania\n",
    "Population and Housing Census. The various stages of the selection of the sample are\n",
    "discussed below.\n",
    "\n",
    "Key sampling statistics - From the sampling done,they targeted 1, 000 Enumeration Areas, with 10 Interviews per in each area\n",
    "they achieved to do the survey successfully in 998 areas. Their targeted Sample was 10,000 Respondents, \n",
    "they were able to achieve respondents which equate 9459 which is a 95% achieved despondence rate and only 7094 are available \n",
    "in the dataset. \n",
    "\n",
    "Data collection period: April to July 2017\n",
    "\n",
    "In this report, I will visualize the Data with graphs. To cover the relationships the between the variable to be able to compare describe and define all the relationships from the results got from the survey.\n"
   ]
  },
  {
   "cell_type": "markdown",
   "metadata": {},
   "source": [
    "#### 1. Examine the dataset. Are there any missing observations or columns where the data do not seem valid?"
   ]
  },
  {
   "cell_type": "code",
   "execution_count": 2,
   "metadata": {},
   "outputs": [
    {
     "name": "stdout",
     "output_type": "stream",
     "text": [
      "<class 'pandas.core.frame.DataFrame'>\n",
      "RangeIndex: 7094 entries, 0 to 7093\n",
      "Data columns (total 37 columns):\n",
      "ID                             7094 non-null int64\n",
      "Q1                             7094 non-null int64\n",
      "Q2                             7094 non-null int64\n",
      "Q3                             7094 non-null int64\n",
      "Q4                             7094 non-null int64\n",
      "Q5                             7094 non-null int64\n",
      "Q6                             7094 non-null int64\n",
      "Q7                             7094 non-null int64\n",
      "Q8_1                           7094 non-null int64\n",
      "Q8_2                           7094 non-null int64\n",
      "Q8_3                           7094 non-null int64\n",
      "Q8_4                           7094 non-null int64\n",
      "Q8_5                           7094 non-null int64\n",
      "Q8_6                           7094 non-null int64\n",
      "Q8_7                           7094 non-null int64\n",
      "Q8_8                           7094 non-null int64\n",
      "Q8_9                           7094 non-null int64\n",
      "Q8_10                          7094 non-null int64\n",
      "Q8_11                          7094 non-null int64\n",
      "Q9                             7094 non-null int64\n",
      "Q10                            7094 non-null int64\n",
      "Q11                            7094 non-null int64\n",
      "Q12                            7094 non-null int64\n",
      "Q13                            7094 non-null int64\n",
      "Q14                            7094 non-null int64\n",
      "Q15                            7094 non-null int64\n",
      "Q16                            7094 non-null int64\n",
      "Q17                            7094 non-null int64\n",
      "Q18                            7094 non-null int64\n",
      "Q19                            7094 non-null int64\n",
      "Latitude                       7094 non-null float64\n",
      "Longitude                      7094 non-null float64\n",
      "mobile_money                   7094 non-null int64\n",
      "savings                        7094 non-null int64\n",
      "borrowing                      7094 non-null int64\n",
      "insurance                      7094 non-null int64\n",
      "mobile_money_classification    7094 non-null int64\n",
      "dtypes: float64(2), int64(35)\n",
      "memory usage: 2.0 MB\n",
      "\n",
      "Number of missing values: 0\n"
     ]
    }
   ],
   "source": [
    "# reading csv\n",
    "mob_mon= pd.read_csv('resources/training.csv')\n",
    "mob_mon.info()\n",
    "\n",
    "#missing values\n",
    "missing_values = mob_mon.isnull().sum().sum()\n",
    "print('\\nNumber of missing values:',missing_values)"
   ]
  },
  {
   "cell_type": "markdown",
   "metadata": {},
   "source": [
    "- From Examination of my dataset. I can conclude that there are no missing values. The type of dataset we working on is a Pandas Dataframe with 37 data columns and 7094 entries. The data types in this dataset are float(2) and intent(35)."
   ]
  },
  {
   "cell_type": "markdown",
   "metadata": {},
   "source": [
    "#### 2. Get basic descriptive statistics for the dataset."
   ]
  },
  {
   "cell_type": "code",
   "execution_count": 3,
   "metadata": {},
   "outputs": [],
   "source": [
    "# Renaming all columns I am required to work with.\n",
    "\n",
    "mob_mon = mob_mon.rename(columns={'Q1':'age','Q2':'gender','Q3':'marital_status','Q6':'land_ownership'})\n",
    "\n",
    "\n",
    "mob_mon_incomes = mob_mon[[\"Q8_1\" ,\"Q8_2\",\"Q8_3\",\"Q8_4\",\"Q8_5\",\"Q8_6\",\"Q8_7\",\"Q8_8\",\"Q8_9\",\"Q8_10\",\"Q8_11\"]] \n",
    "\n",
    "income_type = {\n",
    "    \"Q8_1\":'salaries',\n",
    "    \"Q8_2\":'trading',\n",
    "    \"Q8_3\":'service',\n",
    "    \"Q8_4\":'piece_work',\n",
    "    \"Q8_5\":'rental_income',\n",
    "    \"Q8_6\":'interest',\n",
    "    \"Q8_7\":'pension',\n",
    "    \"Q8_8\":'social_welfare',\n",
    "    \"Q8_9\":'rely_on_someone',\n",
    "    \"Q8_10\":'dont_get_money',\n",
    "    \"Q8_11\":'other'\n",
    "}\n",
    "\n",
    "\n",
    "mob_mon = mob_mon.rename(columns={\n",
    "    \"Q8_1\":'salaries',\n",
    "    \"Q8_2\":'trading',\n",
    "    \"Q8_3\":'service',\n",
    "    \"Q8_4\":'piece_work',\n",
    "    \"Q8_5\":'rental_income',\n",
    "    \"Q8_6\":'interest',\n",
    "    \"Q8_7\":'pension',\n",
    "    \"Q8_8\":'social_welfare',\n",
    "    \"Q8_9\":'rely_on_someone',\n",
    "    \"Q8_10\":'dont_get_money',\n",
    "    \"Q8_11\":'other'\n",
    "})"
   ]
  },
  {
   "cell_type": "code",
   "execution_count": 4,
   "metadata": {},
   "outputs": [],
   "source": [
    "# # creating a column\n",
    "\n",
    "# for column,label in income_type.items():\n",
    "#     mob_mon_incomes[column] = [label if each ==1 else 'none' for each in mob_mon_incomes[column]]\n",
    "# # mob_mon_incomes.head(1)\n",
    "\n",
    "# x = [1,2,3,2,2,2,3,4]\n",
    "# def remove_none(whatever):\n",
    "#     return [x for x in whatever if x != \"none\"]\n",
    "\n",
    "# income = []\n",
    "# for index, row in mob_mon_incomes.iterrows():\n",
    "#     # this will give you a list of values in your row.\n",
    "#     row = list(row)\n",
    "\n",
    "#     # you want to remove all \"none\" values from your list.\n",
    "#     nfl = remove_none(row)\n",
    "\n",
    "#     # *if* your list is empty after the process of elimination, you want to append \"No income\".\n",
    "#     if len(nfl) == 0:\n",
    "#         nfl.append(\"No income\")\n",
    "    \n",
    "#     income.append(nfl)\n",
    "\n",
    "# mob_mon['income_type'] = income"
   ]
  },
  {
   "cell_type": "code",
   "execution_count": 5,
   "metadata": {},
   "outputs": [
    {
     "data": {
      "text/html": [
       "<div>\n",
       "<style scoped>\n",
       "    .dataframe tbody tr th:only-of-type {\n",
       "        vertical-align: middle;\n",
       "    }\n",
       "\n",
       "    .dataframe tbody tr th {\n",
       "        vertical-align: top;\n",
       "    }\n",
       "\n",
       "    .dataframe thead th {\n",
       "        text-align: right;\n",
       "    }\n",
       "</style>\n",
       "<table border=\"1\" class=\"dataframe\">\n",
       "  <thead>\n",
       "    <tr style=\"text-align: right;\">\n",
       "      <th></th>\n",
       "      <th>ID</th>\n",
       "      <th>age</th>\n",
       "      <th>gender</th>\n",
       "      <th>marital_status</th>\n",
       "      <th>Q4</th>\n",
       "      <th>Q5</th>\n",
       "      <th>land_ownership</th>\n",
       "      <th>Q7</th>\n",
       "      <th>salaries</th>\n",
       "      <th>trading</th>\n",
       "      <th>...</th>\n",
       "      <th>Q17</th>\n",
       "      <th>Q18</th>\n",
       "      <th>Q19</th>\n",
       "      <th>Latitude</th>\n",
       "      <th>Longitude</th>\n",
       "      <th>mobile_money</th>\n",
       "      <th>savings</th>\n",
       "      <th>borrowing</th>\n",
       "      <th>insurance</th>\n",
       "      <th>mobile_money_classification</th>\n",
       "    </tr>\n",
       "  </thead>\n",
       "  <tbody>\n",
       "    <tr>\n",
       "      <th>0</th>\n",
       "      <td>5086</td>\n",
       "      <td>98</td>\n",
       "      <td>2</td>\n",
       "      <td>3</td>\n",
       "      <td>1</td>\n",
       "      <td>1</td>\n",
       "      <td>2</td>\n",
       "      <td>2</td>\n",
       "      <td>0</td>\n",
       "      <td>0</td>\n",
       "      <td>...</td>\n",
       "      <td>-1</td>\n",
       "      <td>4</td>\n",
       "      <td>4</td>\n",
       "      <td>-4.460442</td>\n",
       "      <td>29.811396</td>\n",
       "      <td>0</td>\n",
       "      <td>0</td>\n",
       "      <td>0</td>\n",
       "      <td>0</td>\n",
       "      <td>0</td>\n",
       "    </tr>\n",
       "    <tr>\n",
       "      <th>1</th>\n",
       "      <td>1258</td>\n",
       "      <td>40</td>\n",
       "      <td>1</td>\n",
       "      <td>1</td>\n",
       "      <td>3</td>\n",
       "      <td>5</td>\n",
       "      <td>1</td>\n",
       "      <td>1</td>\n",
       "      <td>1</td>\n",
       "      <td>0</td>\n",
       "      <td>...</td>\n",
       "      <td>4</td>\n",
       "      <td>1</td>\n",
       "      <td>4</td>\n",
       "      <td>-6.176438</td>\n",
       "      <td>39.244871</td>\n",
       "      <td>1</td>\n",
       "      <td>1</td>\n",
       "      <td>1</td>\n",
       "      <td>0</td>\n",
       "      <td>3</td>\n",
       "    </tr>\n",
       "    <tr>\n",
       "      <th>2</th>\n",
       "      <td>331</td>\n",
       "      <td>18</td>\n",
       "      <td>2</td>\n",
       "      <td>4</td>\n",
       "      <td>6</td>\n",
       "      <td>3</td>\n",
       "      <td>2</td>\n",
       "      <td>1</td>\n",
       "      <td>0</td>\n",
       "      <td>0</td>\n",
       "      <td>...</td>\n",
       "      <td>-1</td>\n",
       "      <td>1</td>\n",
       "      <td>1</td>\n",
       "      <td>-6.825702</td>\n",
       "      <td>37.652798</td>\n",
       "      <td>1</td>\n",
       "      <td>0</td>\n",
       "      <td>0</td>\n",
       "      <td>0</td>\n",
       "      <td>2</td>\n",
       "    </tr>\n",
       "    <tr>\n",
       "      <th>3</th>\n",
       "      <td>6729</td>\n",
       "      <td>50</td>\n",
       "      <td>1</td>\n",
       "      <td>1</td>\n",
       "      <td>3</td>\n",
       "      <td>1</td>\n",
       "      <td>1</td>\n",
       "      <td>1</td>\n",
       "      <td>0</td>\n",
       "      <td>0</td>\n",
       "      <td>...</td>\n",
       "      <td>-1</td>\n",
       "      <td>1</td>\n",
       "      <td>4</td>\n",
       "      <td>-3.372049</td>\n",
       "      <td>35.808307</td>\n",
       "      <td>1</td>\n",
       "      <td>0</td>\n",
       "      <td>1</td>\n",
       "      <td>0</td>\n",
       "      <td>3</td>\n",
       "    </tr>\n",
       "    <tr>\n",
       "      <th>4</th>\n",
       "      <td>8671</td>\n",
       "      <td>34</td>\n",
       "      <td>1</td>\n",
       "      <td>1</td>\n",
       "      <td>1</td>\n",
       "      <td>1</td>\n",
       "      <td>2</td>\n",
       "      <td>1</td>\n",
       "      <td>0</td>\n",
       "      <td>1</td>\n",
       "      <td>...</td>\n",
       "      <td>-1</td>\n",
       "      <td>1</td>\n",
       "      <td>4</td>\n",
       "      <td>-7.179645</td>\n",
       "      <td>31.039095</td>\n",
       "      <td>1</td>\n",
       "      <td>1</td>\n",
       "      <td>0</td>\n",
       "      <td>1</td>\n",
       "      <td>3</td>\n",
       "    </tr>\n",
       "  </tbody>\n",
       "</table>\n",
       "<p>5 rows × 37 columns</p>\n",
       "</div>"
      ],
      "text/plain": [
       "     ID  age  gender  marital_status  Q4  Q5  land_ownership  Q7  salaries  \\\n",
       "0  5086   98       2               3   1   1               2   2         0   \n",
       "1  1258   40       1               1   3   5               1   1         1   \n",
       "2   331   18       2               4   6   3               2   1         0   \n",
       "3  6729   50       1               1   3   1               1   1         0   \n",
       "4  8671   34       1               1   1   1               2   1         0   \n",
       "\n",
       "   trading  ...  Q17  Q18  Q19  Latitude  Longitude  mobile_money  savings  \\\n",
       "0        0  ...   -1    4    4 -4.460442  29.811396             0        0   \n",
       "1        0  ...    4    1    4 -6.176438  39.244871             1        1   \n",
       "2        0  ...   -1    1    1 -6.825702  37.652798             1        0   \n",
       "3        0  ...   -1    1    4 -3.372049  35.808307             1        0   \n",
       "4        1  ...   -1    1    4 -7.179645  31.039095             1        1   \n",
       "\n",
       "   borrowing  insurance  mobile_money_classification  \n",
       "0          0          0                            0  \n",
       "1          1          0                            3  \n",
       "2          0          0                            2  \n",
       "3          1          0                            3  \n",
       "4          0          1                            3  \n",
       "\n",
       "[5 rows x 37 columns]"
      ]
     },
     "execution_count": 5,
     "metadata": {},
     "output_type": "execute_result"
    }
   ],
   "source": [
    "mob_mon.head()"
   ]
  },
  {
   "cell_type": "code",
   "execution_count": 6,
   "metadata": {},
   "outputs": [
    {
     "data": {
      "text/html": [
       "<div>\n",
       "<style scoped>\n",
       "    .dataframe tbody tr th:only-of-type {\n",
       "        vertical-align: middle;\n",
       "    }\n",
       "\n",
       "    .dataframe tbody tr th {\n",
       "        vertical-align: top;\n",
       "    }\n",
       "\n",
       "    .dataframe thead th {\n",
       "        text-align: right;\n",
       "    }\n",
       "</style>\n",
       "<table border=\"1\" class=\"dataframe\">\n",
       "  <thead>\n",
       "    <tr style=\"text-align: right;\">\n",
       "      <th></th>\n",
       "      <th>count</th>\n",
       "      <th>mean</th>\n",
       "      <th>std</th>\n",
       "      <th>min</th>\n",
       "      <th>25%</th>\n",
       "      <th>50%</th>\n",
       "      <th>75%</th>\n",
       "      <th>max</th>\n",
       "    </tr>\n",
       "  </thead>\n",
       "  <tbody>\n",
       "    <tr>\n",
       "      <th>age</th>\n",
       "      <td>7094.0</td>\n",
       "      <td>38.239498</td>\n",
       "      <td>16.332148</td>\n",
       "      <td>16.0</td>\n",
       "      <td>25.0</td>\n",
       "      <td>35.0</td>\n",
       "      <td>48.0</td>\n",
       "      <td>100.0</td>\n",
       "    </tr>\n",
       "    <tr>\n",
       "      <th>gender</th>\n",
       "      <td>7094.0</td>\n",
       "      <td>1.559910</td>\n",
       "      <td>0.496433</td>\n",
       "      <td>1.0</td>\n",
       "      <td>1.0</td>\n",
       "      <td>2.0</td>\n",
       "      <td>2.0</td>\n",
       "      <td>2.0</td>\n",
       "    </tr>\n",
       "    <tr>\n",
       "      <th>marital_status</th>\n",
       "      <td>7094.0</td>\n",
       "      <td>1.787426</td>\n",
       "      <td>1.165160</td>\n",
       "      <td>1.0</td>\n",
       "      <td>1.0</td>\n",
       "      <td>1.0</td>\n",
       "      <td>3.0</td>\n",
       "      <td>4.0</td>\n",
       "    </tr>\n",
       "    <tr>\n",
       "      <th>Q4</th>\n",
       "      <td>7094.0</td>\n",
       "      <td>3.060051</td>\n",
       "      <td>1.557779</td>\n",
       "      <td>1.0</td>\n",
       "      <td>2.0</td>\n",
       "      <td>3.0</td>\n",
       "      <td>3.0</td>\n",
       "      <td>8.0</td>\n",
       "    </tr>\n",
       "    <tr>\n",
       "      <th>Q5</th>\n",
       "      <td>7094.0</td>\n",
       "      <td>2.548915</td>\n",
       "      <td>1.534257</td>\n",
       "      <td>1.0</td>\n",
       "      <td>1.0</td>\n",
       "      <td>3.0</td>\n",
       "      <td>4.0</td>\n",
       "      <td>6.0</td>\n",
       "    </tr>\n",
       "  </tbody>\n",
       "</table>\n",
       "</div>"
      ],
      "text/plain": [
       "                 count       mean        std   min   25%   50%   75%    max\n",
       "age             7094.0  38.239498  16.332148  16.0  25.0  35.0  48.0  100.0\n",
       "gender          7094.0   1.559910   0.496433   1.0   1.0   2.0   2.0    2.0\n",
       "marital_status  7094.0   1.787426   1.165160   1.0   1.0   1.0   3.0    4.0\n",
       "Q4              7094.0   3.060051   1.557779   1.0   2.0   3.0   3.0    8.0\n",
       "Q5              7094.0   2.548915   1.534257   1.0   1.0   3.0   4.0    6.0"
      ]
     },
     "execution_count": 6,
     "metadata": {},
     "output_type": "execute_result"
    }
   ],
   "source": [
    "# Getting descriptive stats on my dataset.\n",
    "mob_mon = mob_mon.drop(['ID'], axis=1)\n",
    "summary = mob_mon.describe()\n",
    "summary = summary.transpose()\n",
    "summary.head()"
   ]
  },
  {
   "cell_type": "code",
   "execution_count": 7,
   "metadata": {},
   "outputs": [
    {
     "name": "stdout",
     "output_type": "stream",
     "text": [
      "Total number of males: 3122\n",
      "Males with Mobile Money: 1959\n",
      "Males without Mobile Money: 1163\n",
      "\n",
      "Total number of females: 3972\n",
      "Females with Mobile Money: 1971\n",
      "Females without Mobile Money: 2001\n",
      "\n",
      "The youngest is  ['male'] [16]\n",
      "the oldest is:  ['male'] [100]\n"
     ]
    }
   ],
   "source": [
    "# Changed values to male and female\n",
    "mob_mon.gender= ['male' if each == 1 else 'female' for each in mob_mon.gender]\n",
    "\n",
    "# Checking the number of entries for males:\n",
    "males = mob_mon[mob_mon.gender == 'male']\n",
    "m1 = len(males[males.mobile_money == 1])\n",
    "m2 = len(males[males.mobile_money == 0]) \n",
    "m = m1 + m2\n",
    "print('Total number of males:',m)\n",
    "print('Males with Mobile Money:',m1)\n",
    "print('Males without Mobile Money:',m2,)\n",
    "\n",
    "# Checking the number of entries for males:\n",
    "females = mob_mon[mob_mon.gender == 'female']\n",
    "f1 = len(females[females.mobile_money == 1])\n",
    "f2 = len(females[females.mobile_money == 0])\n",
    "f = f1 + f2\n",
    "print('\\nTotal number of females:',f)\n",
    "print('Females with Mobile Money:',f1)\n",
    "print('Females without Mobile Money:',f2)\n",
    "\n",
    "# Checking the youngest & oldest entrant in the database. \n",
    "youngest = mob_mon[mob_mon.age.notnull()].sort_values('age')[['gender','age']].head(1)\n",
    "oldest = mob_mon[mob_mon.age.notnull()].sort_values('age')[['gender','age']].tail(1)\n",
    "\n",
    "print('\\nThe youngest is ', youngest.gender.values, youngest.age.values)\n",
    "print('the oldest is: ', oldest.gender.values, oldest.age.values)"
   ]
  },
  {
   "cell_type": "markdown",
   "metadata": {},
   "source": [
    "- The data split is 56% to 44%, where 56% is females which are a total of 3972. Females that have mobile money are 1971 and those without mobile money are 2001. Males in the whole dataset are 3122 in total with 1959 having mobile money and 1163 without mobile money. The average age of a female with mobile money is 36 and the average age of a female without mobile is 39. The average age of a female with mobile money is 37 and the average age of a female without mobile is 43. "
   ]
  },
  {
   "cell_type": "markdown",
   "metadata": {},
   "source": [
    "#### 3. Create appropriate graphs to visually represent the relationship between financial services accessed (non, momible, both) and age, gender, marital status, land ownership and type of income."
   ]
  },
  {
   "cell_type": "code",
   "execution_count": 8,
   "metadata": {},
   "outputs": [
    {
     "data": {
      "image/png": "[encoded data removed]",
      "text/plain": [
       "<Figure size 936x576 with 1 Axes>"
      ]
     },
     "metadata": {},
     "output_type": "display_data"
    }
   ],
   "source": [
    "# Comparing Mobile Money Classification with Age.\n",
    "sns.set()\n",
    "mob_mon['Age_by_decades'] = mob_mon.age.apply(lambda x : int(x/10) * 10)\n",
    "plt.figure(figsize = (13,8))\n",
    "sns.countplot(x = 'Age_by_decades', hue = 'mobile_money_classification', data = mob_mon)\n",
    "plt.title('\\nSubcribers Per Age Group(Mobile Money Classification)\\n',fontsize=20)\n",
    "plt.xlabel('\\nAge by decades')\n",
    "plt.ylabel('Frequency')\n",
    "plt.legend(title = 'Mobile Money Classification:', labels = ['No financial services', 'Other only', 'Mm only', 'Mm plus'])\n",
    "plt.show()\n"
   ]
  },
  {
   "cell_type": "code",
   "execution_count": 9,
   "metadata": {},
   "outputs": [
    {
     "data": {
      "image/png": "[encoded data removed]",
      "text/plain": [
       "<Figure size 720x432 with 1 Axes>"
      ]
     },
     "metadata": {},
     "output_type": "display_data"
    }
   ],
   "source": [
    "# Comparing Mobile Money Classification with Gender.\n",
    "sns.set()\n",
    "plt.figure(figsize = (10,6))\n",
    "sns.countplot(x = 'gender', hue = 'mobile_money_classification', data = mob_mon)\n",
    "plt.title('\\nGender and Mobile Money Classifications\\n', fontsize = 15)\n",
    "plt.xlabel('\\nGender')\n",
    "plt.ylabel('Frequency')\n",
    "plt.legend(title = 'Mobile Money Classification:', labels = ['No financial services', 'Other only', 'Mm only', 'Mm plus'])\n",
    "plt.xticks(np.arange(2), ['Female', 'Male'])\n",
    "plt.show()"
   ]
  },
  {
   "cell_type": "code",
   "execution_count": 10,
   "metadata": {},
   "outputs": [
    {
     "data": {
      "image/png": "[encoded data removed]",
      "text/plain": [
       "<Figure size 720x432 with 1 Axes>"
      ]
     },
     "metadata": {},
     "output_type": "display_data"
    }
   ],
   "source": [
    "# Comparing Mobile Money Classification with Marital Status.\n",
    "\n",
    "sns.set()\n",
    "plt.figure(figsize = (10,6))\n",
    "sns.countplot(x = 'marital_status', hue = 'mobile_money_classification', data = mob_mon)\n",
    "plt.title('\\nRelationship Status and Mobile Money Classifications\\n', fontsize = 15)\n",
    "plt.xlabel('\\nRelationship Status')\n",
    "plt.ylabel('Frequency')\n",
    "plt.legend(title = 'Mobile Money Classification:', labels = ['No financial services', 'Other only', 'Mm only', 'Mm plus'])\n",
    "plt.xticks(np.arange(4), ['Married', 'Divorced', 'Widowed', 'Single'])\n",
    "plt.show()\n"
   ]
  },
  {
   "cell_type": "code",
   "execution_count": 11,
   "metadata": {},
   "outputs": [
    {
     "data": {
      "image/png": "[encoded data removed]",
      "text/plain": [
       "<Figure size 720x432 with 1 Axes>"
      ]
     },
     "metadata": {},
     "output_type": "display_data"
    }
   ],
   "source": [
    "# Comparring Land ownership with Mobile Money Classification\n",
    "\n",
    "sns.set()\n",
    "plt.figure(figsize = (10,6))\n",
    "sns.countplot(x = 'land_ownership', hue = 'mobile_money_classification',data = mob_mon)\n",
    "plt.title('\\nLand Ownership and Mobile Money Classifications\\n', fontsize = 15)\n",
    "plt.xlabel('\\nLand Ownership')\n",
    "plt.ylabel('Frequency')\n",
    "plt.legend(title = 'Mobile Money Classification:', labels = ['No financial services', 'Other only', 'Mm only', 'Mm plus'])\n",
    "plt.xticks(np.arange(2), ['Yes', 'No'])\n",
    "plt.show()\n"
   ]
  },
  {
   "cell_type": "code",
   "execution_count": 12,
   "metadata": {},
   "outputs": [
    {
     "data": {
      "text/plain": [
       "Index(['age', 'gender', 'marital_status', 'Q4', 'Q5', 'land_ownership', 'Q7',\n",
       "       'salaries', 'trading', 'service', 'piece_work', 'rental_income',\n",
       "       'interest', 'pension', 'social_welfare', 'rely_on_someone',\n",
       "       'dont_get_money', 'other', 'Q9', 'Q10', 'Q11', 'Q12', 'Q13', 'Q14',\n",
       "       'Q15', 'Q16', 'Q17', 'Q18', 'Q19', 'Latitude', 'Longitude',\n",
       "       'mobile_money', 'savings', 'borrowing', 'insurance',\n",
       "       'mobile_money_classification', 'Age_by_decades'],\n",
       "      dtype='object')"
      ]
     },
     "execution_count": 12,
     "metadata": {},
     "output_type": "execute_result"
    }
   ],
   "source": [
    "mob_mon.columns"
   ]
  },
  {
   "cell_type": "code",
   "execution_count": 13,
   "metadata": {},
   "outputs": [],
   "source": [
    "# incomes = mob_mon.groupby(['income_type'])\n",
    "# incomes = incomes.count()\n"
   ]
  },
  {
   "cell_type": "code",
   "execution_count": 14,
   "metadata": {},
   "outputs": [
    {
     "ename": "KeyError",
     "evalue": "'incomes'",
     "output_type": "error",
     "traceback": [
      "\u001b[0;31m---------------------------------------------------------------------------\u001b[0m",
      "\u001b[0;31mKeyError\u001b[0m                                  Traceback (most recent call last)",
      "\u001b[0;32m/usr/local/lib/python3.6/dist-packages/pandas/core/indexes/base.py\u001b[0m in \u001b[0;36mget_loc\u001b[0;34m(self, key, method, tolerance)\u001b[0m\n\u001b[1;32m   2896\u001b[0m             \u001b[0;32mtry\u001b[0m\u001b[0;34m:\u001b[0m\u001b[0;34m\u001b[0m\u001b[0;34m\u001b[0m\u001b[0m\n\u001b[0;32m-> 2897\u001b[0;31m                 \u001b[0;32mreturn\u001b[0m \u001b[0mself\u001b[0m\u001b[0;34m.\u001b[0m\u001b[0m_engine\u001b[0m\u001b[0;34m.\u001b[0m\u001b[0mget_loc\u001b[0m\u001b[0;34m(\u001b[0m\u001b[0mkey\u001b[0m\u001b[0;34m)\u001b[0m\u001b[0;34m\u001b[0m\u001b[0;34m\u001b[0m\u001b[0m\n\u001b[0m\u001b[1;32m   2898\u001b[0m             \u001b[0;32mexcept\u001b[0m \u001b[0mKeyError\u001b[0m\u001b[0;34m:\u001b[0m\u001b[0;34m\u001b[0m\u001b[0;34m\u001b[0m\u001b[0m\n",
      "\u001b[0;32mpandas/_libs/index.pyx\u001b[0m in \u001b[0;36mpandas._libs.index.IndexEngine.get_loc\u001b[0;34m()\u001b[0m\n",
      "\u001b[0;32mpandas/_libs/index.pyx\u001b[0m in \u001b[0;36mpandas._libs.index.IndexEngine.get_loc\u001b[0;34m()\u001b[0m\n",
      "\u001b[0;32mpandas/_libs/hashtable_class_helper.pxi\u001b[0m in \u001b[0;36mpandas._libs.hashtable.PyObjectHashTable.get_item\u001b[0;34m()\u001b[0m\n",
      "\u001b[0;32mpandas/_libs/hashtable_class_helper.pxi\u001b[0m in \u001b[0;36mpandas._libs.hashtable.PyObjectHashTable.get_item\u001b[0;34m()\u001b[0m\n",
      "\u001b[0;31mKeyError\u001b[0m: 'incomes'",
      "\nDuring handling of the above exception, another exception occurred:\n",
      "\u001b[0;31mKeyError\u001b[0m                                  Traceback (most recent call last)",
      "\u001b[0;32m<ipython-input-14-c06866ae9547>\u001b[0m in \u001b[0;36m<module>\u001b[0;34m\u001b[0m\n\u001b[1;32m      5\u001b[0m \u001b[0mtanzania\u001b[0m \u001b[0;34m=\u001b[0m \u001b[0;34m[\u001b[0m\u001b[0;34m]\u001b[0m\u001b[0;34m\u001b[0m\u001b[0;34m\u001b[0m\u001b[0m\n\u001b[1;32m      6\u001b[0m \u001b[0;32mfor\u001b[0m \u001b[0mx\u001b[0m \u001b[0;32min\u001b[0m \u001b[0mincomes\u001b[0m\u001b[0;34m:\u001b[0m\u001b[0;34m\u001b[0m\u001b[0;34m\u001b[0m\u001b[0m\n\u001b[0;32m----> 7\u001b[0;31m     \u001b[0ms\u001b[0m \u001b[0;34m=\u001b[0m \u001b[0mincomes\u001b[0m\u001b[0;34m.\u001b[0m\u001b[0mloc\u001b[0m\u001b[0;34m[\u001b[0m\u001b[0mincomes\u001b[0m\u001b[0;34m[\u001b[0m\u001b[0;34m'incomes'\u001b[0m\u001b[0;34m]\u001b[0m \u001b[0;34m==\u001b[0m \u001b[0mx\u001b[0m\u001b[0;34m,\u001b[0m \u001b[0;34m'value'\u001b[0m\u001b[0;34m]\u001b[0m\u001b[0;34m\u001b[0m\u001b[0;34m\u001b[0m\u001b[0m\n\u001b[0m\u001b[1;32m      8\u001b[0m     \u001b[0;31m#print (s)\u001b[0m\u001b[0;34m\u001b[0m\u001b[0;34m\u001b[0m\u001b[0;34m\u001b[0m\u001b[0m\n\u001b[1;32m      9\u001b[0m     \u001b[0mL\u001b[0m\u001b[0;34m.\u001b[0m\u001b[0mappend\u001b[0m\u001b[0;34m(\u001b[0m\u001b[0;34m{\u001b[0m\u001b[0;34m'Fruits'\u001b[0m\u001b[0;34m:\u001b[0m \u001b[0mx\u001b[0m\u001b[0;34m,\u001b[0m \u001b[0;34m'count'\u001b[0m\u001b[0;34m:\u001b[0m\u001b[0mlen\u001b[0m\u001b[0;34m(\u001b[0m\u001b[0ms\u001b[0m\u001b[0;34m)\u001b[0m\u001b[0;34m}\u001b[0m\u001b[0;34m)\u001b[0m\u001b[0;34m\u001b[0m\u001b[0;34m\u001b[0m\u001b[0m\n",
      "\u001b[0;32m/usr/local/lib/python3.6/dist-packages/pandas/core/frame.py\u001b[0m in \u001b[0;36m__getitem__\u001b[0;34m(self, key)\u001b[0m\n\u001b[1;32m   2993\u001b[0m             \u001b[0;32mif\u001b[0m \u001b[0mself\u001b[0m\u001b[0;34m.\u001b[0m\u001b[0mcolumns\u001b[0m\u001b[0;34m.\u001b[0m\u001b[0mnlevels\u001b[0m \u001b[0;34m>\u001b[0m \u001b[0;36m1\u001b[0m\u001b[0;34m:\u001b[0m\u001b[0;34m\u001b[0m\u001b[0;34m\u001b[0m\u001b[0m\n\u001b[1;32m   2994\u001b[0m                 \u001b[0;32mreturn\u001b[0m \u001b[0mself\u001b[0m\u001b[0;34m.\u001b[0m\u001b[0m_getitem_multilevel\u001b[0m\u001b[0;34m(\u001b[0m\u001b[0mkey\u001b[0m\u001b[0;34m)\u001b[0m\u001b[0;34m\u001b[0m\u001b[0;34m\u001b[0m\u001b[0m\n\u001b[0;32m-> 2995\u001b[0;31m             \u001b[0mindexer\u001b[0m \u001b[0;34m=\u001b[0m \u001b[0mself\u001b[0m\u001b[0;34m.\u001b[0m\u001b[0mcolumns\u001b[0m\u001b[0;34m.\u001b[0m\u001b[0mget_loc\u001b[0m\u001b[0;34m(\u001b[0m\u001b[0mkey\u001b[0m\u001b[0;34m)\u001b[0m\u001b[0;34m\u001b[0m\u001b[0;34m\u001b[0m\u001b[0m\n\u001b[0m\u001b[1;32m   2996\u001b[0m             \u001b[0;32mif\u001b[0m \u001b[0mis_integer\u001b[0m\u001b[0;34m(\u001b[0m\u001b[0mindexer\u001b[0m\u001b[0;34m)\u001b[0m\u001b[0;34m:\u001b[0m\u001b[0;34m\u001b[0m\u001b[0;34m\u001b[0m\u001b[0m\n\u001b[1;32m   2997\u001b[0m                 \u001b[0mindexer\u001b[0m \u001b[0;34m=\u001b[0m \u001b[0;34m[\u001b[0m\u001b[0mindexer\u001b[0m\u001b[0;34m]\u001b[0m\u001b[0;34m\u001b[0m\u001b[0;34m\u001b[0m\u001b[0m\n",
      "\u001b[0;32m/usr/local/lib/python3.6/dist-packages/pandas/core/indexes/base.py\u001b[0m in \u001b[0;36mget_loc\u001b[0;34m(self, key, method, tolerance)\u001b[0m\n\u001b[1;32m   2897\u001b[0m                 \u001b[0;32mreturn\u001b[0m \u001b[0mself\u001b[0m\u001b[0;34m.\u001b[0m\u001b[0m_engine\u001b[0m\u001b[0;34m.\u001b[0m\u001b[0mget_loc\u001b[0m\u001b[0;34m(\u001b[0m\u001b[0mkey\u001b[0m\u001b[0;34m)\u001b[0m\u001b[0;34m\u001b[0m\u001b[0;34m\u001b[0m\u001b[0m\n\u001b[1;32m   2898\u001b[0m             \u001b[0;32mexcept\u001b[0m \u001b[0mKeyError\u001b[0m\u001b[0;34m:\u001b[0m\u001b[0;34m\u001b[0m\u001b[0;34m\u001b[0m\u001b[0m\n\u001b[0;32m-> 2899\u001b[0;31m                 \u001b[0;32mreturn\u001b[0m \u001b[0mself\u001b[0m\u001b[0;34m.\u001b[0m\u001b[0m_engine\u001b[0m\u001b[0;34m.\u001b[0m\u001b[0mget_loc\u001b[0m\u001b[0;34m(\u001b[0m\u001b[0mself\u001b[0m\u001b[0;34m.\u001b[0m\u001b[0m_maybe_cast_indexer\u001b[0m\u001b[0;34m(\u001b[0m\u001b[0mkey\u001b[0m\u001b[0;34m)\u001b[0m\u001b[0;34m)\u001b[0m\u001b[0;34m\u001b[0m\u001b[0;34m\u001b[0m\u001b[0m\n\u001b[0m\u001b[1;32m   2900\u001b[0m         \u001b[0mindexer\u001b[0m \u001b[0;34m=\u001b[0m \u001b[0mself\u001b[0m\u001b[0;34m.\u001b[0m\u001b[0mget_indexer\u001b[0m\u001b[0;34m(\u001b[0m\u001b[0;34m[\u001b[0m\u001b[0mkey\u001b[0m\u001b[0;34m]\u001b[0m\u001b[0;34m,\u001b[0m \u001b[0mmethod\u001b[0m\u001b[0;34m=\u001b[0m\u001b[0mmethod\u001b[0m\u001b[0;34m,\u001b[0m \u001b[0mtolerance\u001b[0m\u001b[0;34m=\u001b[0m\u001b[0mtolerance\u001b[0m\u001b[0;34m)\u001b[0m\u001b[0;34m\u001b[0m\u001b[0;34m\u001b[0m\u001b[0m\n\u001b[1;32m   2901\u001b[0m         \u001b[0;32mif\u001b[0m \u001b[0mindexer\u001b[0m\u001b[0;34m.\u001b[0m\u001b[0mndim\u001b[0m \u001b[0;34m>\u001b[0m \u001b[0;36m1\u001b[0m \u001b[0;32mor\u001b[0m \u001b[0mindexer\u001b[0m\u001b[0;34m.\u001b[0m\u001b[0msize\u001b[0m \u001b[0;34m>\u001b[0m \u001b[0;36m1\u001b[0m\u001b[0;34m:\u001b[0m\u001b[0;34m\u001b[0m\u001b[0;34m\u001b[0m\u001b[0m\n",
      "\u001b[0;32mpandas/_libs/index.pyx\u001b[0m in \u001b[0;36mpandas._libs.index.IndexEngine.get_loc\u001b[0;34m()\u001b[0m\n",
      "\u001b[0;32mpandas/_libs/index.pyx\u001b[0m in \u001b[0;36mpandas._libs.index.IndexEngine.get_loc\u001b[0;34m()\u001b[0m\n",
      "\u001b[0;32mpandas/_libs/hashtable_class_helper.pxi\u001b[0m in \u001b[0;36mpandas._libs.hashtable.PyObjectHashTable.get_item\u001b[0;34m()\u001b[0m\n",
      "\u001b[0;32mpandas/_libs/hashtable_class_helper.pxi\u001b[0m in \u001b[0;36mpandas._libs.hashtable.PyObjectHashTable.get_item\u001b[0;34m()\u001b[0m\n",
      "\u001b[0;31mKeyError\u001b[0m: 'incomes'"
     ]
    }
   ],
   "source": [
    "incomes = mob_mon[['salaries', 'trading', 'service', 'piece_work', 'rental_income',\n",
    "       'interest', 'pension', 'social_welfare', 'rely_on_someone',\n",
    "       'dont_get_money', 'other']]\n",
    "# incomes\n",
    "tanzania = []\n",
    "for x in incomes:\n",
    "    s = incomes.loc[incomes['incomes'] == x, 'value']\n",
    "    #print (s)\n",
    "    L.append({'Fruits': x, 'count':len(s)})"
   ]
  },
  {
   "cell_type": "code",
   "execution_count": null,
   "metadata": {},
   "outputs": [],
   "source": [
    "incomes['Counts'] = mob_mon.groupby(['incomes']).transform('count')"
   ]
  },
  {
   "cell_type": "code",
   "execution_count": null,
   "metadata": {},
   "outputs": [],
   "source": [
    "for (i in incomes(mob_mon)) {\n",
    "   df$new_col[i] <- sum(df$old_col == df$old_col[i], na.rm = TRUE)\n",
    "}"
   ]
  },
  {
   "cell_type": "code",
   "execution_count": null,
   "metadata": {
    "scrolled": false
   },
   "outputs": [],
   "source": [
    "# mob_mon.income_type.count().apply(lambda x:x[0]).plot(kind='bar', width=0.9)\n",
    "# mob_mon[['icome_type']].applymap(lambda x: x[0]).plot.bar(rot=0, color=list('br'))"
   ]
  },
  {
   "cell_type": "code",
   "execution_count": null,
   "metadata": {},
   "outputs": [],
   "source": [
    "# Comparing Income Types and Mobile Money classifications\n",
    "\n",
    "#  mob_mon.groupby(mob_mon['income type'])['mobile_money'].sum()\n",
    "\n",
    "# plt.figure(figsize = (10,6))\n",
    "# sns.countplot(x = 'incomes', hue = 'mobile_money_classification',data = mob_mon)\n",
    "# plt.title('\\nType of income and Mobile Money Classifications\\n', fontsize = 15)\n",
    "# plt.xlabel('\\nType Of Income')\n",
    "# plt.ylabel('Frequency')\n",
    "# plt.legend(title = 'Mobile Money Classification:', labels = ['No financial services', 'Other only', 'Mm only', 'Mm plus'])\n",
    "# plt.xticks(np.arange(2), ['Yes', 'No'])\n",
    "# plt.show()\n",
    "# df_plot = df.groupby(['income_type', 'mobile_money_classification']).size().reset_index().pivot(columns='income_type', index='mobile_money_classification', values=0)\n"
   ]
  },
  {
   "cell_type": "markdown",
   "metadata": {},
   "source": [
    "- Males use mobile money more than females.\n",
    "- More young people use mobile money than elders so our data \tset is more skewed to the left.\n",
    "- Married people use mobile money more than divorced, widowed \tor single people and still more married people do not have \tmobile money than all the other relationship status people.\n",
    "- People that do not have land ownership use have the highest \tpercentage on the piechart and do not use Mobile money, \t\tand those who do have land have the lowest percentage and \tdo not use mobile money also.\n",
    "- With income types people without mobile money do not use \t\tmobile money besides in the trading type of income."
   ]
  },
  {
   "cell_type": "markdown",
   "metadata": {},
   "source": [
    "#### 4. Create appropriate graphs to visually represent the relationship between how often mobile services are used and age, gender, marital status, land ownership and type of income.\n"
   ]
  },
  {
   "cell_type": "code",
   "execution_count": null,
   "metadata": {},
   "outputs": [],
   "source": [
    "# Comparing Mobile Money with Age.\n",
    "\n",
    "sns.set()\n",
    "plt.figure(figsize = (100,70))\n",
    "age = mob_mon.groupby(['Age_by_decades', 'mobile_money']).size().reset_index().pivot(columns='Age_by_decades', index='mobile_money', values=0)\n",
    "age.plot(kind='bar', stacked=True)\n",
    "plt.title('\\nGraph depicting the relationship of Mobile Money with age)\\n',fontsize=15)\n",
    "plt.xlabel('\\nMobile Money')\n",
    "plt.ylabel('Frequency')\n",
    "plt.legend(title = 'Ages:',loc = 'best')\n",
    "plt.xticks(np.arange(2), ['No','Yes'])\n",
    "plt.show()\n"
   ]
  },
  {
   "cell_type": "code",
   "execution_count": null,
   "metadata": {},
   "outputs": [],
   "source": [
    "# Comparing Mobile Money with Gender.\n",
    "sns.set()\n",
    "plt.figure(figsize = (10,6))\n",
    "age = mob_mon.groupby(['gender', 'mobile_money']).size().reset_index().pivot(columns='gender', index='mobile_money', values=0)\n",
    "age.plot(kind='bar', stacked=True)\n",
    "plt.title('\\nGender and Mobile Money Classifications\\n', fontsize = 15)\n",
    "plt.xlabel('\\nMobile Money')\n",
    "plt.ylabel('Frequency')\n",
    "plt.legend(title = 'Gender:', labels = ['Female', 'Male'])\n",
    "plt.xticks(np.arange(2), ['No','Yes'])\n",
    "plt.show()"
   ]
  },
  {
   "cell_type": "code",
   "execution_count": null,
   "metadata": {},
   "outputs": [],
   "source": [
    "# Comparing Mobile Money with Relationship Status.\n",
    "sns.set()\n",
    "plt.figure(figsize = (100,70))\n",
    "marital = mob_mon.groupby(['marital_status', 'mobile_money']).size().reset_index().pivot(columns='marital_status', index='mobile_money', values=0)\n",
    "marital.plot(kind='bar', stacked=True)\n",
    "plt.title('\\nGraph depicting the relationship of Mobile Money with age)\\n',fontsize=15)\n",
    "plt.xlabel('\\nMobile Money')\n",
    "plt.ylabel('Frequency')\n",
    "plt.legend(title = 'Marital Status:',labels=['Married', 'Divorced', 'Widowed', 'Single'],loc = 'best')\n",
    "plt.xticks(np.arange(2), ['No', 'Yes'])\n",
    "plt.show()\n"
   ]
  },
  {
   "cell_type": "code",
   "execution_count": null,
   "metadata": {},
   "outputs": [],
   "source": [
    "# Comparring Land ownership with Mobile Money\n",
    "\n",
    "sns.set()\n",
    "plt.figure(figsize = (10,6))\n",
    "land = mob_mon.groupby(['land_ownership', 'mobile_money']).size().reset_index().pivot(columns='land_ownership', index='mobile_money', values=0)\n",
    "land.plot(kind='bar', stacked=True)\n",
    "plt.title('\\nLand Ownership and Mobile Money\\n', fontsize = 15)\n",
    "plt.xlabel('\\nMobile Money')\n",
    "plt.ylabel('Frequency')\n",
    "plt.xticks(np.arange(2), ['No','Yes', ])\n",
    "plt.legend(title = 'Land Ownership:',labels=['Owns land', 'No land'],loc = 'best')\n",
    "plt.show()\n"
   ]
  },
  {
   "cell_type": "code",
   "execution_count": null,
   "metadata": {},
   "outputs": [],
   "source": [
    "# Comparing Income Type and Mobile Money\n",
    "\n",
    "# incomes = mob_mon.groupby(['Salaries/wages',\n",
    "# 'trading/selling',\n",
    "# 'service',\n",
    "# 'Piece work/Casual labor/Occasional jobs',\n",
    "# 'Rental income',\n",
    "# 'Interest',\n",
    "# 'Pension',\n",
    "# 'Social welfare money/grant from Government',\n",
    "# 'Rely on someone',\n",
    "# 'Don’t get money',\n",
    "#  'Other'])\n",
    "\n",
    "\n",
    "# df['new_column'] = list(pd.get_dummies(mob_mon['income type']).get_values())"
   ]
  },
  {
   "cell_type": "markdown",
   "metadata": {},
   "source": [
    "- People with access to Mobile services use Mobile money than \tthose who do not have access to mobile services.\n"
   ]
  },
  {
   "cell_type": "markdown",
   "metadata": {},
   "source": [
    "#### 5. What can you conclude about use of financial services in Tanzania? Which demographic factors are associated with mobile money use?"
   ]
  },
  {
   "cell_type": "code",
   "execution_count": null,
   "metadata": {},
   "outputs": [],
   "source": [
    "for column,label in income_type.items():\n",
    "    mob_mon_incomes[column] = [label if each ==1 else 'none' for each in mob_mon_incomes[column]]\n",
    "mob_mon_incomes.head(1)"
   ]
  },
  {
   "cell_type": "code",
   "execution_count": null,
   "metadata": {},
   "outputs": [],
   "source": [
    "x = [1,2,3,2,2,2,3,4]\n",
    "def remove_none(whatever):\n",
    "    return [x for x in whatever if x != \"none\"]\n",
    "\n",
    "income = []\n",
    "for index, row in mob_mon_incomes.iterrows():\n",
    "    # this will give you a list of values in your row.\n",
    "    row = list(row)\n",
    "\n",
    "    # you want to remove all \"none\" values from your list.\n",
    "    nfl = remove_none(row)\n",
    "\n",
    "    # *if* your list is empty after the process of elimination, you want to append \"No income\".\n",
    "    if len(nfl) == 0:\n",
    "        nfl.append(\"No income\")\n",
    "    \n",
    "    income.append(nfl)\n",
    "\n",
    "mob_mon['income_type'] = income\n"
   ]
  },
  {
   "cell_type": "code",
   "execution_count": null,
   "metadata": {},
   "outputs": [],
   "source": [
    "mob_mon = mob_mon.head(50)"
   ]
  },
  {
   "cell_type": "code",
   "execution_count": null,
   "metadata": {},
   "outputs": [],
   "source": [
    "import sys\n",
    "#!{sys.executable} -m pip install folium --user\n",
    "import folium\n",
    "from geopy.geocoders import Nominatim\n",
    "from folium.plugins import MarkerCluster"
   ]
  },
  {
   "cell_type": "code",
   "execution_count": null,
   "metadata": {
    "scrolled": false
   },
   "outputs": [],
   "source": [
    "# Creating a map for tanzania.\n",
    "lat = -6.3728253; \n",
    "lon = 34.8924826\n",
    "income_type_map = folium.Map(location = [lat, lon], zoom_start = 5)\n",
    "marker_cluster = MarkerCluster().add_to(income_type_map)\n",
    "\n",
    "# add markers to map\n",
    "for lat, lng, label in zip(mob_mon['Latitude'], mob_mon['Longitude'], \n",
    "                           mob_mon['income_type']):\n",
    "    label = folium.Popup(str(label), parse_html=True)\n",
    "    folium.CircleMarker(\n",
    "        [lat, lng],\n",
    "        radius=5,\n",
    "        popup=label,\n",
    "        color='purple',\n",
    "        fill=True,\n",
    "        fill_color='#3386cc',\n",
    "        fill_opacity=0.7,\n",
    "        parse_html=False).add_to(marker_cluster)  \n",
    "\n",
    "income_type_map\n"
   ]
  },
  {
   "cell_type": "markdown",
   "metadata": {},
   "source": [
    "- From our map we are able to identify how our map we can clearly see that most of the people that use mobile money live by the costal are and their main source of income is by trading. and most people that use mobile money are female, married people and a lot of youth (this are people in the ages between 25-35). Not a lot of people also use mobile money, factors also might be that do not recieve income, do not have people to send or recieve money from using the services. few of elder people participate in the utilising of mobile money this mightbe that they have children and family members that send them money through mobile money.\n"
   ]
  },
  {
   "cell_type": "code",
   "execution_count": null,
   "metadata": {},
   "outputs": [],
   "source": []
  }
 ],
 "metadata": {
  "kernelspec": {
   "display_name": "Python 3",
   "language": "python",
   "name": "python3"
  },
  "language_info": {
   "codemirror_mode": {
    "name": "ipython",
    "version": 3
   },
   "file_extension": ".py",
   "mimetype": "text/x-python",
   "name": "python",
   "nbconvert_exporter": "python",
   "pygments_lexer": "ipython3",
   "version": "3.6.9"
  }
 },
 "nbformat": 4,
 "nbformat_minor": 2
}
